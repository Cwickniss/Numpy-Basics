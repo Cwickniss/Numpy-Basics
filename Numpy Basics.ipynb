{
 "cells": [
  {
   "cell_type": "code",
   "execution_count": 1,
   "metadata": {},
   "outputs": [
    {
     "name": "stdout",
     "output_type": "stream",
     "text": [
      "test: Hello World !!!\n"
     ]
    }
   ],
   "source": [
    "# **** print a message ****\n",
    "test = \"Hello World !!!\"\n",
    "print(\"test: \" + test)"
   ]
  },
  {
   "cell_type": "code",
   "execution_count": 2,
   "metadata": {},
   "outputs": [
    {
     "name": "stdout",
     "output_type": "stream",
     "text": [
      "1.2\n",
      "val: 1.2\n"
     ]
    }
   ],
   "source": [
    "# **** print a variable ****\n",
    "val = 1.2\n",
    "print(val)\n",
    "print(\"val: \" + str(val))"
   ]
  },
  {
   "cell_type": "code",
   "execution_count": 3,
   "metadata": {},
   "outputs": [
    {
     "name": "stdout",
     "output_type": "stream",
     "text": [
      "val: 0.9525741268224334\n"
     ]
    }
   ],
   "source": [
    "import math\n",
    "\n",
    "# **** basic sigmoid function definition ****\n",
    "def basic_sigmoid(x):\n",
    "    s = 1 / (1 + math.exp(-x))\n",
    "    return s\n",
    "\n",
    "# **** test the sigmoid function ****\n",
    "val = basic_sigmoid(3)\n",
    "#val = basic_sigmoid(0)\n",
    "print(\"val: \" + str(val))"
   ]
  },
  {
   "cell_type": "code",
   "execution_count": 4,
   "metadata": {},
   "outputs": [
    {
     "name": "stdout",
     "output_type": "stream",
     "text": [
      "x: [1, 2, 3, 4]\n"
     ]
    },
    {
     "ename": "TypeError",
     "evalue": "bad operand type for unary -: 'list'",
     "output_type": "error",
     "traceback": [
      "\u001b[1;31m---------------------------------------------------------------------------\u001b[0m",
      "\u001b[1;31mTypeError\u001b[0m                                 Traceback (most recent call last)",
      "\u001b[1;32m<ipython-input-4-335aecd07143>\u001b[0m in \u001b[0;36m<module>\u001b[1;34m\u001b[0m\n\u001b[0;32m      6\u001b[0m \u001b[1;33m\u001b[0m\u001b[0m\n\u001b[0;32m      7\u001b[0m \u001b[1;31m# **** try the basic_sigmoid function ****\u001b[0m\u001b[1;33m\u001b[0m\u001b[1;33m\u001b[0m\u001b[1;33m\u001b[0m\u001b[0m\n\u001b[1;32m----> 8\u001b[1;33m \u001b[0mval\u001b[0m \u001b[1;33m=\u001b[0m \u001b[0mbasic_sigmoid\u001b[0m\u001b[1;33m(\u001b[0m\u001b[0mx\u001b[0m\u001b[1;33m)\u001b[0m\u001b[1;33m\u001b[0m\u001b[1;33m\u001b[0m\u001b[0m\n\u001b[0m",
      "\u001b[1;32m<ipython-input-3-4dc70138a3cd>\u001b[0m in \u001b[0;36mbasic_sigmoid\u001b[1;34m(x)\u001b[0m\n\u001b[0;32m      3\u001b[0m \u001b[1;31m# **** basic sigmoid function definition ****\u001b[0m\u001b[1;33m\u001b[0m\u001b[1;33m\u001b[0m\u001b[1;33m\u001b[0m\u001b[0m\n\u001b[0;32m      4\u001b[0m \u001b[1;32mdef\u001b[0m \u001b[0mbasic_sigmoid\u001b[0m\u001b[1;33m(\u001b[0m\u001b[0mx\u001b[0m\u001b[1;33m)\u001b[0m\u001b[1;33m:\u001b[0m\u001b[1;33m\u001b[0m\u001b[1;33m\u001b[0m\u001b[0m\n\u001b[1;32m----> 5\u001b[1;33m     \u001b[0ms\u001b[0m \u001b[1;33m=\u001b[0m \u001b[1;36m1\u001b[0m \u001b[1;33m/\u001b[0m \u001b[1;33m(\u001b[0m\u001b[1;36m1\u001b[0m \u001b[1;33m+\u001b[0m \u001b[0mmath\u001b[0m\u001b[1;33m.\u001b[0m\u001b[0mexp\u001b[0m\u001b[1;33m(\u001b[0m\u001b[1;33m-\u001b[0m\u001b[0mx\u001b[0m\u001b[1;33m)\u001b[0m\u001b[1;33m)\u001b[0m\u001b[1;33m\u001b[0m\u001b[1;33m\u001b[0m\u001b[0m\n\u001b[0m\u001b[0;32m      6\u001b[0m     \u001b[1;32mreturn\u001b[0m \u001b[0ms\u001b[0m\u001b[1;33m\u001b[0m\u001b[1;33m\u001b[0m\u001b[0m\n\u001b[0;32m      7\u001b[0m \u001b[1;33m\u001b[0m\u001b[0m\n",
      "\u001b[1;31mTypeError\u001b[0m: bad operand type for unary -: 'list'"
     ]
    }
   ],
   "source": [
    "# **** define a vector (list) ****\n",
    "x = [1, 2, 3, 4]\n",
    "#x = np.array([1, 2, 3, 4])\n",
    "#x = np.array([[1, 2, 3, 4])\n",
    "print(\"x: \" + str(x))\n",
    "\n",
    "# **** try the basic_sigmoid function ****\n",
    "val = basic_sigmoid(x)"
   ]
  },
  {
   "cell_type": "code",
   "execution_count": 5,
   "metadata": {},
   "outputs": [
    {
     "name": "stdout",
     "output_type": "stream",
     "text": [
      "x: [1 2 3 4]\n",
      "x.shape: (4,)\n",
      "\n",
      "val: [ 2.71828183  7.3890561  20.08553692 54.59815003]\n",
      "val.shape: (4,)\n"
     ]
    }
   ],
   "source": [
    "# **** now let's try it with Numpy ****\n",
    "import numpy as np\n",
    "\n",
    "# **** define a numpy vector (array) ****\n",
    "x = np.array([1, 2, 3, 4])\n",
    "#x = np.array([[1, 2, 3, 4]])\n",
    "print(\"x: \" + str(x))\n",
    "print(\"x.shape: \" + str(x.shape))\n",
    "print()\n",
    "\n",
    "# **** compute the exponential of each element in the array ****\n",
    "val = np.exp(x)\n",
    "print(\"val: \" + str(val))\n",
    "print(\"val.shape: \" + str(val.shape))"
   ]
  },
  {
   "cell_type": "code",
   "execution_count": 6,
   "metadata": {},
   "outputs": [
    {
     "name": "stdout",
     "output_type": "stream",
     "text": [
      "x + 3: [4 5 6 7]\n",
      "val: [4 5 6 7]\n",
      "val.shape: (4,)\n"
     ]
    }
   ],
   "source": [
    "# **** add a constant to each element in the array ****\n",
    "print(\"x + 3: \" + str(x + 3))\n",
    "\n",
    "# **** save the results in an array ****\n",
    "val = x + 3\n",
    "print(\"val: \" + str(val))\n",
    "print(\"val.shape: \" + str(val.shape))"
   ]
  },
  {
   "cell_type": "code",
   "execution_count": 7,
   "metadata": {},
   "outputs": [],
   "source": [
    "# **** get quick access to documentation on a numpy function ****\n",
    "np.exp?"
   ]
  },
  {
   "cell_type": "code",
   "execution_count": 8,
   "metadata": {},
   "outputs": [
    {
     "name": "stdout",
     "output_type": "stream",
     "text": [
      "x: [1 2 3 4]\n",
      "sigmoid(x): [0.73105858 0.88079708 0.95257413 0.98201379]\n",
      "val.shape: (4,)\n"
     ]
    }
   ],
   "source": [
    "# **** sigmoid function using Numpy definition ****\n",
    "def sigmoid(x):\n",
    "    s = 1 / (1 + np.exp(-x))\n",
    "    return s\n",
    "\n",
    "# **** try the sigmoid function ****\n",
    "print(\"x: \" + str(x))\n",
    "val = sigmoid(x)\n",
    "print(\"sigmoid(x): \" + str(val))\n",
    "print(\"val.shape: \" + str(val.shape))"
   ]
  },
  {
   "cell_type": "code",
   "execution_count": 9,
   "metadata": {},
   "outputs": [
    {
     "name": "stdout",
     "output_type": "stream",
     "text": [
      "x: [1 2 3 4]\n",
      "sigmoid_derivative(x): [0.19661193 0.10499359 0.04517666 0.01766271]\n",
      "val.shape: (4,)\n"
     ]
    }
   ],
   "source": [
    "# **** sigmoid_derivative function definition ****\n",
    "def sigmoid_derivative(x):\n",
    "    s = sigmoid(x)\n",
    "    ds = s * (1 - s)\n",
    "    return ds\n",
    "\n",
    "# **** try the sigmoid_derivative function ****\n",
    "x = np.array([1, 2, 3, 4])\n",
    "print(\"x: \" + str(x))\n",
    "val = sigmoid_derivative(x)\n",
    "print(\"sigmoid_derivative(x): \" + str(val))\n",
    "print(\"val.shape: \" + str(val.shape))"
   ]
  },
  {
   "cell_type": "code",
   "execution_count": 10,
   "metadata": {},
   "outputs": [
    {
     "name": "stdout",
     "output_type": "stream",
     "text": [
      "image:\n",
      "[[[0.67826139 0.29380381]\n",
      "  [0.90714982 0.52835647]\n",
      "  [0.4215251  0.45017551]]\n",
      "\n",
      " [[0.92814219 0.96677647]\n",
      "  [0.85304703 0.52351845]\n",
      "  [0.19981397 0.27417313]]\n",
      "\n",
      " [[0.60659855 0.00533165]\n",
      "  [0.10820313 0.49978937]\n",
      "  [0.34144279 0.94630077]]]\n",
      "\n",
      "image.shape: (3, 3, 2)\n",
      "image.shape[0]: 3\n",
      "image.shape[1]: 3\n",
      "image.shape[2]: 2\n"
     ]
    }
   ],
   "source": [
    "# **** define an extremely small RGB image ****\n",
    "\n",
    "#image = np.random.randn(3, 3, 2)\n",
    "image = np.array([[[ 0.67826139,  0.29380381],\n",
    "        [ 0.90714982,  0.52835647],\n",
    "        [ 0.4215251 ,  0.45017551]],\n",
    "\n",
    "       [[ 0.92814219,  0.96677647],\n",
    "        [ 0.85304703,  0.52351845],\n",
    "        [ 0.19981397,  0.27417313]],\n",
    "\n",
    "       [[ 0.60659855,  0.00533165],\n",
    "        [ 0.10820313,  0.49978937],\n",
    "        [ 0.34144279,  0.94630077]]])\n",
    "\n",
    "print(\"image:\\n\" + str(image))\n",
    "print()\n",
    "\n",
    "print(\"image.shape: \" + str(image.shape))\n",
    "print(\"image.shape[0]: \" + str(image.shape[0]))\n",
    "print(\"image.shape[1]: \" + str(image.shape[1]))\n",
    "print(\"image.shape[2]: \" + str(image.shape[2]))"
   ]
  },
  {
   "cell_type": "code",
   "execution_count": 11,
   "metadata": {},
   "outputs": [
    {
     "name": "stdout",
     "output_type": "stream",
     "text": [
      "image2vector(image):\n",
      "[[0.67826139]\n",
      " [0.29380381]\n",
      " [0.90714982]\n",
      " [0.52835647]\n",
      " [0.4215251 ]\n",
      " [0.45017551]\n",
      " [0.92814219]\n",
      " [0.96677647]\n",
      " [0.85304703]\n",
      " [0.52351845]\n",
      " [0.19981397]\n",
      " [0.27417313]\n",
      " [0.60659855]\n",
      " [0.00533165]\n",
      " [0.10820313]\n",
      " [0.49978937]\n",
      " [0.34144279]\n",
      " [0.94630077]]\n",
      "x.shape: (18, 1)\n"
     ]
    }
   ],
   "source": [
    "# **** image2vector function definition ****\n",
    "def image2vector(image):\n",
    "    v = image.reshape(image.shape[0] * image.shape[1] * image.shape[2], 1)\n",
    "    return v\n",
    "\n",
    "# **** try the image2vector function ****\n",
    "x = image2vector(image)\n",
    "print(\"image2vector(image):\\n\" + str(x))\n",
    "print(\"x.shape: \" + str(x.shape))"
   ]
  },
  {
   "cell_type": "code",
   "execution_count": 12,
   "metadata": {},
   "outputs": [
    {
     "name": "stdout",
     "output_type": "stream",
     "text": [
      "x.shape: (2, 3)\n",
      "\n",
      "x_norm:\n",
      "[[5.        ]\n",
      " [7.28010989]]\n",
      "x_norm.shape: (2, 1)\n",
      "x_norm_0:\n",
      "[[5.        ]\n",
      " [7.28010989]]\n",
      "\n",
      "normalizeRows(x):\n",
      "[[0.         0.6        0.8       ]\n",
      " [0.13736056 0.82416338 0.54944226]]\n"
     ]
    }
   ],
   "source": [
    "# **** normalizeRows function definition ****\n",
    "def normalizeRows(x):\n",
    "    \n",
    "    # **** compute the norm per row ****\n",
    "    x_norm = np.linalg.norm(x, ord = 2, axis = 1, keepdims = True)\n",
    "    print(\"x_norm:\\n\" + str(x_norm))\n",
    "    print(\"x_norm.shape: \" + str(x_norm.shape))\n",
    "\n",
    "    x_norm_0 = np.sqrt((x ** 2).sum(axis = 1, keepdims = True))\n",
    "    print(\"x_norm_0:\\n\" + str(x_norm_0))\n",
    "    \n",
    "    x = x / x_norm\n",
    "    return x\n",
    "\n",
    "# **** define an array to normalize ****\n",
    "x = np.array([[0, 3, 4],\n",
    "              [1, 6, 4]])\n",
    "print(\"x.shape: \" + str(x.shape))\n",
    "print()\n",
    "\n",
    "val = normalizeRows(x)\n",
    "print()\n",
    "\n",
    "print(\"normalizeRows(x):\\n\" + str(val))"
   ]
  },
  {
   "cell_type": "code",
   "execution_count": 13,
   "metadata": {},
   "outputs": [
    {
     "name": "stdout",
     "output_type": "stream",
     "text": [
      "\n",
      "softmax(x):\n",
      "[[9.80897665e-01 8.94462891e-04 1.79657674e-02 1.21052389e-04\n",
      "  1.21052389e-04]\n",
      " [8.78679856e-01 1.18916387e-01 8.01252314e-04 8.01252314e-04\n",
      "  8.01252314e-04]]\n",
      "val.shape: (2, 5)\n"
     ]
    }
   ],
   "source": [
    "# **** define softmax function ****\n",
    "def softmax(x):\n",
    "    # **** apply exp() element-wise to x ****\n",
    "    x_exp = np.exp(x)\n",
    "#    print(\"x_exp.shape: \" + str(x_exp.shape))\n",
    "    \n",
    "    # **** create a vector x_sum that sums each row of x_exp ****\n",
    "    x_sum = np.sum(x_exp, axis = 1, keepdims = True)\n",
    "#    print(\"x_sum.shape: \" + str(x_sum.shape))\n",
    "    \n",
    "    # **** compute the softmax(x) by dividing x_exp by x_sum (broadcasting in action) ****\n",
    "    s = x_exp / x_sum\n",
    "    \n",
    "    return s\n",
    "\n",
    "# **** define an array to compute the softmax ****\n",
    "x = np.array([[9, 2, 5, 0, 0],\n",
    "              [7, 5, 0, 0, 0]])\n",
    "val = softmax(x)\n",
    "print()\n",
    "\n",
    "print(\"softmax(x):\\n\" + str(val))\n",
    "print(\"val.shape: \" + str(val.shape))"
   ]
  },
  {
   "cell_type": "code",
   "execution_count": 14,
   "metadata": {},
   "outputs": [
    {
     "name": "stdout",
     "output_type": "stream",
     "text": [
      "type(x1): <class 'list'>\n",
      "len(x1): 15\n",
      " dot: 278\n",
      "time: 0 ns\n",
      "\n",
      "outer:\n",
      "[[81. 18. 18. 81.  0. 81. 18. 45.  0.  0. 81. 18. 45.  0.  0.]\n",
      " [18.  4.  4. 18.  0. 18.  4. 10.  0.  0. 18.  4. 10.  0.  0.]\n",
      " [45. 10. 10. 45.  0. 45. 10. 25.  0.  0. 45. 10. 25.  0.  0.]\n",
      " [ 0.  0.  0.  0.  0.  0.  0.  0.  0.  0.  0.  0.  0.  0.  0.]\n",
      " [ 0.  0.  0.  0.  0.  0.  0.  0.  0.  0.  0.  0.  0.  0.  0.]\n",
      " [63. 14. 14. 63.  0. 63. 14. 35.  0.  0. 63. 14. 35.  0.  0.]\n",
      " [45. 10. 10. 45.  0. 45. 10. 25.  0.  0. 45. 10. 25.  0.  0.]\n",
      " [ 0.  0.  0.  0.  0.  0.  0.  0.  0.  0.  0.  0.  0.  0.  0.]\n",
      " [ 0.  0.  0.  0.  0.  0.  0.  0.  0.  0.  0.  0.  0.  0.  0.]\n",
      " [ 0.  0.  0.  0.  0.  0.  0.  0.  0.  0.  0.  0.  0.  0.  0.]\n",
      " [81. 18. 18. 81.  0. 81. 18. 45.  0.  0. 81. 18. 45.  0.  0.]\n",
      " [18.  4.  4. 18.  0. 18.  4. 10.  0.  0. 18.  4. 10.  0.  0.]\n",
      " [45. 10. 10. 45.  0. 45. 10. 25.  0.  0. 45. 10. 25.  0.  0.]\n",
      " [ 0.  0.  0.  0.  0.  0.  0.  0.  0.  0.  0.  0.  0.  0.  0.]\n",
      " [ 0.  0.  0.  0.  0.  0.  0.  0.  0.  0.  0.  0.  0.  0.  0.]]\n",
      "time: 0 ns\n",
      "\n",
      "mul:\n",
      "[81.  4. 10.  0.  0. 63. 10.  0.  0.  0. 81.  4. 25.  0.  0.]\n",
      "time: 0 ns\n",
      "\n",
      "W:\n",
      "[[ 0.27265932 -1.60952383 -0.42803906 -1.33704102 -0.15632368  1.34104449\n",
      "  -0.55789461 -0.83468761  1.00941938  1.28909122  0.22415058  0.91009974\n",
      "   0.7990523   1.02313498  1.20313298]\n",
      " [-0.90259211  0.35717062 -0.54977443 -1.09644882  1.01015264 -1.05716869\n",
      "  -0.15420378 -0.69011194  1.57178216 -0.98349001  1.18743233 -0.2746131\n",
      "   0.34690087 -0.7420177   1.31885633]\n",
      " [-0.02854177 -1.01376546  0.08735084  0.085688    1.1259117   0.61024067\n",
      "  -0.48382485  1.42837973 -0.66878483  0.15243048 -1.9602916  -0.64319426\n",
      "   0.54107558 -0.57197942  0.53008145]]\n",
      "gdot:\n",
      "[ 11.52534544  -6.45689054 -16.21872719]\n",
      "time: 0 ns\n",
      "\n"
     ]
    }
   ],
   "source": [
    "# **** to time operations ****\n",
    "import time\n",
    "\n",
    "# **** arrays to use for testing vectorization ****\n",
    "#x1 = np.random.randn(15000)\n",
    "#x2 = np.random.randn(15000)\n",
    "\n",
    "x1 = [9, 2, 5, 0, 0, 7, 5, 0, 0, 0, 9, 2, 5, 0, 0]\n",
    "x2 = [9, 2, 2, 9, 0, 9, 2, 5, 0, 0, 9, 2, 5, 0, 0]\n",
    "print(\"type(x1): \" + str(type(x1)))\n",
    "print(\"len(x1): \" + str(len(x1)))\n",
    "\n",
    "#x1 = np.array([9, 2, 5, 0, 0, 7, 5, 0, 0, 0, 9, 2, 5, 0, 0])\n",
    "#x2 = np.array([9, 2, 2, 9, 0, 9, 2, 5, 0, 0, 9, 2, 5, 0, 0])\n",
    "#print(\"type(x1): \" + str(type(x1)))\n",
    "#print(\"x1.shape: \" + str(x1.shape))\n",
    "\n",
    "# **** clasic dot product of vectors ****\n",
    "tic = time.process_time_ns()\n",
    "dot = 0\n",
    "for i in range(len(x1)):\n",
    "    dot += x1[i] * x2[i]\n",
    "toc = time.process_time_ns()\n",
    "print(\" dot: \" + str(dot))\n",
    "print(\"time: \" + str(toc - tic) + \" ns\")\n",
    "print()\n",
    "\n",
    "# **** classic outer product of vectors ****\n",
    "tic = time.process_time_ns()\n",
    "\n",
    "#print(\"len(x1): \" + str(len(x1)))\n",
    "#print(\"len(x2): \" + str(len(x2)))\n",
    "\n",
    "outer = np.zeros((len(x1), len(x2)))\n",
    "#print(\"outer.shape: \" + str(outer.shape))\n",
    "\n",
    "for i in range(len(x1)):\n",
    "    for j in range(len(x2)):\n",
    "        outer[i, j] = x1[i] * x2[j]\n",
    "toc = time.process_time_ns()\n",
    "print(\"outer:\\n\" + str(outer))\n",
    "print(\"time: \" + str(toc - tic) + \" ns\")\n",
    "print()\n",
    "\n",
    "# **** classic elementwise multiplication ****\n",
    "tic = time.process_time_ns()\n",
    "mul = np.zeros(len(x1))\n",
    "for i in range(len(x1)):\n",
    "    mul[i] = x1[i] * x2[i]\n",
    "toc = time.process_time_ns()\n",
    "print(\"mul:\\n\" + str(mul))\n",
    "print(\"time: \" + str(toc - tic) + \" ns\")\n",
    "print()\n",
    "\n",
    "# **** classic general dot product implementation ****\n",
    "W = np.random.randn(3, len(x1))\n",
    "print(\"W:\\n\" + str(W))\n",
    "tic = time.process_time_ns()\n",
    "gdot = np.zeros(W.shape[0])\n",
    "for i in range(W.shape[0]):\n",
    "    for j in range(len(x1)):\n",
    "        gdot[i] += W[i, j] * x1[j]\n",
    "toc = time.process_time_ns()\n",
    "print(\"gdot:\\n\" + str(gdot))\n",
    "print(\"time: \" + str(toc - tic) + \" ns\")\n",
    "print()"
   ]
  },
  {
   "cell_type": "code",
   "execution_count": 15,
   "metadata": {},
   "outputs": [
    {
     "name": "stdout",
     "output_type": "stream",
     "text": [
      " dot: 278\n",
      "time: 0 ns\n",
      "\n",
      "outer:\n",
      "[[81 18 18 81  0 81 18 45  0  0 81 18 45  0  0]\n",
      " [18  4  4 18  0 18  4 10  0  0 18  4 10  0  0]\n",
      " [45 10 10 45  0 45 10 25  0  0 45 10 25  0  0]\n",
      " [ 0  0  0  0  0  0  0  0  0  0  0  0  0  0  0]\n",
      " [ 0  0  0  0  0  0  0  0  0  0  0  0  0  0  0]\n",
      " [63 14 14 63  0 63 14 35  0  0 63 14 35  0  0]\n",
      " [45 10 10 45  0 45 10 25  0  0 45 10 25  0  0]\n",
      " [ 0  0  0  0  0  0  0  0  0  0  0  0  0  0  0]\n",
      " [ 0  0  0  0  0  0  0  0  0  0  0  0  0  0  0]\n",
      " [ 0  0  0  0  0  0  0  0  0  0  0  0  0  0  0]\n",
      " [81 18 18 81  0 81 18 45  0  0 81 18 45  0  0]\n",
      " [18  4  4 18  0 18  4 10  0  0 18  4 10  0  0]\n",
      " [45 10 10 45  0 45 10 25  0  0 45 10 25  0  0]\n",
      " [ 0  0  0  0  0  0  0  0  0  0  0  0  0  0  0]\n",
      " [ 0  0  0  0  0  0  0  0  0  0  0  0  0  0  0]]\n",
      "time: 0 ns\n",
      "\n",
      "mul:\n",
      "[81  4 10  0  0 63 10  0  0  0 81  4 25  0  0]\n",
      "time: 0 ns\n",
      "\n",
      "gdot:\n",
      "[ 11.52534544  -6.45689054 -16.21872719]\n",
      "time: 0 ns\n",
      "\n"
     ]
    }
   ],
   "source": [
    "# **** vectorized dot product ****\n",
    "tic = time.process_time_ns()\n",
    "dot = np.dot(x1, x2)\n",
    "toc = time.process_time_ns()\n",
    "print(\" dot: \" + str(dot))\n",
    "print(\"time: \" + str(toc - tic) + \" ns\")\n",
    "print()\n",
    "\n",
    "# **** vectorized outer product of vectors ****\n",
    "tic = time.process_time_ns()\n",
    "outer = np.outer(x1, x2)\n",
    "toc = time.process_time_ns()\n",
    "print(\"outer:\\n\" + str(outer))\n",
    "print(\"time: \" + str(toc - tic) + \" ns\")\n",
    "print()\n",
    "\n",
    "# **** vectorized elementwise multiplication ****\n",
    "tic = time.process_time_ns()\n",
    "mul = np.multiply(x1, x2)\n",
    "toc = time.process_time_ns()\n",
    "print(\"mul:\\n\" + str(mul))\n",
    "print(\"time: \" + str(toc - tic) + \" ns\")\n",
    "print()\n",
    "\n",
    "# **** vectorized general dot product ****\n",
    "tic = time.process_time_ns()\n",
    "gdot = np.dot(W, x1)\n",
    "toc = time.process_time_ns()\n",
    "print(\"gdot:\\n\" + str(gdot))\n",
    "print(\"time: \" + str(toc - tic) + \" ns\")\n",
    "print()"
   ]
  },
  {
   "cell_type": "code",
   "execution_count": 16,
   "metadata": {},
   "outputs": [
    {
     "name": "stdout",
     "output_type": "stream",
     "text": [
      "L1: 1.1\n"
     ]
    }
   ],
   "source": [
    "# **** define L1 loss function ****\n",
    "def L1(yhat, y):\n",
    "    loss = np.sum(np.abs(y - yhat))\n",
    "    return loss\n",
    "\n",
    "# **** test the L1 loss function ***\n",
    "yhat = np.array([.9, 0.2, 0.1, .4, .9])\n",
    "y = np.array([1, 0, 0, 1, 1])\n",
    "val = L1(yhat, y)\n",
    "print(\"L1: \" + str(val))"
   ]
  },
  {
   "cell_type": "code",
   "execution_count": 17,
   "metadata": {},
   "outputs": [
    {
     "name": "stdout",
     "output_type": "stream",
     "text": [
      "L2: 0.43000000000000005\n"
     ]
    }
   ],
   "source": [
    "# **** define the L2 loss function ****\n",
    "def L2(yhat, y):\n",
    "#    loss = np.sum(np.square(y - yhat))\n",
    "    loss = np.sum(np.dot(y - yhat, y - yhat))\n",
    "    return loss\n",
    "\n",
    "# *** test the L2 loss function ****\n",
    "yhat = np.array([.9, 0.2, 0.1, .4, .9])\n",
    "y = np.array([1, 0, 0, 1, 1])\n",
    "val = L2(yhat, y)\n",
    "print(\"L2: \" + str(val))\n"
   ]
  },
  {
   "cell_type": "code",
   "execution_count": null,
   "metadata": {},
   "outputs": [],
   "source": []
  }
 ],
 "metadata": {
  "kernelspec": {
   "display_name": "Python 3",
   "language": "python",
   "name": "python3"
  },
  "language_info": {
   "codemirror_mode": {
    "name": "ipython",
    "version": 3
   },
   "file_extension": ".py",
   "mimetype": "text/x-python",
   "name": "python",
   "nbconvert_exporter": "python",
   "pygments_lexer": "ipython3",
   "version": "3.7.1"
  }
 },
 "nbformat": 4,
 "nbformat_minor": 2
}
